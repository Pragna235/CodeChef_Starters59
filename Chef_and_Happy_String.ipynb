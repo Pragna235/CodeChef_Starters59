{
  "nbformat": 4,
  "nbformat_minor": 0,
  "metadata": {
    "colab": {
      "provenance": [],
      "authorship_tag": "ABX9TyMHu8sey34VpxA8RJgF1mMT",
      "include_colab_link": true
    },
    "kernelspec": {
      "name": "python3",
      "display_name": "Python 3"
    },
    "language_info": {
      "name": "python"
    }
  },
  "cells": [
    {
      "cell_type": "markdown",
      "metadata": {
        "id": "view-in-github",
        "colab_type": "text"
      },
      "source": [
        "<a href=\"https://colab.research.google.com/github/Pragna235/CodeChef_Starters59/blob/main/Chef_and_Happy_String.ipynb\" target=\"_parent\"><img src=\"https://colab.research.google.com/assets/colab-badge.svg\" alt=\"Open In Colab\"/></a>"
      ]
    },
    {
      "cell_type": "code",
      "execution_count": 1,
      "metadata": {
        "id": "JqOrNixR3ofN",
        "colab": {
          "base_uri": "https://localhost:8080/"
        },
        "outputId": "77416059-bf7d-46b7-a086-710776a691b1"
      },
      "outputs": [
        {
          "output_type": "stream",
          "name": "stdout",
          "text": [
            "4\n",
            "aeiou\n",
            "HAPPY\n",
            "abxy\n",
            "SAD\n",
            "aebcdefghij\n",
            "SAD\n",
            "abcdeeafg\n",
            "HAPPY\n"
          ]
        }
      ],
      "source": [
        "for i in range(int(input())):\n",
        "    str1=input()\n",
        "    count=0\n",
        "    happy=0\n",
        "    #print(\"Given String is \", str1)\n",
        "    for k in range(3,len(str1)+1):\n",
        "        for j in range(0,k):\n",
        "            #print(\"j = \",j,\"k = \",k)\n",
        "            if(k>=j):\n",
        "                if(k-j)<3:\n",
        "                    continue\n",
        "            str2=str1[j:k]\n",
        "            #print(str2)\n",
        "\n",
        "            #print(len(str2))\n",
        "            for p in str2:\n",
        "                #print(p)\n",
        "                \n",
        "                if(p=='a' or p=='e' or p=='i' or p=='o' or p=='u' or p=='A' or p=='E' or p=='I' or p=='O' or p=='U'):\n",
        "                    count+=1\n",
        "                    #print(count)\n",
        "                    \n",
        "            if(count==len(str2)):\n",
        "                happy+=1\n",
        "            \n",
        "            count=0\n",
        "    if(happy>=1):\n",
        "        print(\"HAPPY\")\n",
        "    else:\n",
        "        print(\"SAD\")\n",
        "   # print(str2)\n",
        "        \n",
        "#4\n",
        "#aeiou\n",
        "#abxy\n",
        "#aebcdefghij\n",
        "#abcdeeafg\n",
        "    \n"
      ]
    }
  ]
}